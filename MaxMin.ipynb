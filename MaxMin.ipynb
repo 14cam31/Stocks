{
 "cells": [
  {
   "cell_type": "code",
   "execution_count": 1,
   "metadata": {},
   "outputs": [],
   "source": [
    "import matplotlib.pyplot as plt\n",
    "import pandas as pd"
   ]
  },
  {
   "cell_type": "code",
   "execution_count": 2,
   "metadata": {},
   "outputs": [],
   "source": [
    "#csv to pd\n",
    "aapl = pd.read_csv('AAPL.csv')\n",
    "\n",
    "#compartimentalize - \"Adj Close\"\n",
    "date = aapl.Date\n",
    "_open = aapl.Open\n",
    "high = aapl.High\n",
    "low = aapl.Low\n",
    "pre_close = aapl.Close\n",
    "volume = aapl.Volume\n",
    "\n",
    "close = []\n",
    "for i in range(200, 700):\n",
    "    close.append(pre_close[i])\n",
    "\n",
    "#make a counter for shits and gigs\n",
    "counter = []\n",
    "for x in range(len(close)):\n",
    "    counter.append(x)"
   ]
  },
  {
   "cell_type": "code",
   "execution_count": 3,
   "metadata": {},
   "outputs": [],
   "source": [
    "def maxminavg():\n",
    "    maxs = []\n",
    "    maxs_index = []\n",
    "    mins = []\n",
    "    mins_index = []\n",
    "    window = 25\n",
    "    confidence_window = 25\n",
    "    prev = 0\n",
    "    increasing = False\n",
    "    was_increasing = False\n",
    "    was_decreasing = False\n",
    "    increasing_count = 0\n",
    "    decreasing = False\n",
    "    decreasing_count = 0\n",
    "    \n",
    "    for x in range(len(close) - window):\n",
    "        \n",
    "        total = 0\n",
    "        top = 0\n",
    "        low = 9999999\n",
    "        \n",
    "        for i in range(0, window):\n",
    "            total = total + close[x + i]\n",
    "            if close[x + i] > top:\n",
    "                top = close[x + i]\n",
    "            if close[x + i] < low:\n",
    "                low = close[x + i]\n",
    "            \n",
    "        current = total / window\n",
    "        \n",
    "        if current < prev:\n",
    "            increasing = False\n",
    "            increasing_count = 0\n",
    "            decreaseing_count = decreaseing_count + 1\n",
    "            if decreaseing_count >= confidence_window:\n",
    "                decreasing = True\n",
    "        if current > prev:\n",
    "            decreasing = False\n",
    "            decreaseing_count = 0\n",
    "            increasing_count = increasing_count + 1\n",
    "            if increasing_count >= confidence_window:\n",
    "                increasing = True\n",
    "        \n",
    "        if was_increasing != increasing:\n",
    "            maxs.append(top)\n",
    "            maxs_index.append(x + i)\n",
    "        if was_decreasing != decreasing:\n",
    "            mins.append(low)\n",
    "            mins_index.append(x + i)\n",
    "        \n",
    "        prev = current\n",
    "        was_increasing = increasing\n",
    "        was_decreaseing = decreasing\n",
    "    \n",
    "    return maxs, maxs_index, mins, mins_index\n",
    "\n",
    "#\n",
    "#\n",
    "#\n",
    "#\n",
    "#\n",
    "\n",
    "def maxminslope():\n",
    "    maxs = []\n",
    "    maxs_index = []\n",
    "    mins = []\n",
    "    mins_index = []\n",
    "    window = 10\n",
    "    confidence_window = 10\n",
    "    prev = 0\n",
    "    increasing = False\n",
    "    was_increasing = False\n",
    "    was_decreasing = False\n",
    "    increasing_count = 0\n",
    "    decreasing = False\n",
    "    decreasing_count = 0\n",
    "    \n",
    "    for x in range(len(close) - window):\n",
    "        \n",
    "        top = 0\n",
    "        low = 9999999\n",
    "        \n",
    "        for i in range(0, window):\n",
    "            if close[x + i] > top:\n",
    "                top = close[x + i]\n",
    "            if close[x + i] < low:\n",
    "                low = close[x + i]\n",
    "            \n",
    "        current = (close[x + i] - close[x]) / window\n",
    "        \n",
    "        if current < prev:\n",
    "            increasing = False\n",
    "            increasing_count = 0\n",
    "            decreaseing_count = decreaseing_count + 1\n",
    "            if decreaseing_count >= confidence_window:\n",
    "                decreasing = True\n",
    "        if current > prev:\n",
    "            decreasing = False\n",
    "            decreaseing_count = 0\n",
    "            increasing_count = increasing_count + 1\n",
    "            if increasing_count >= confidence_window:\n",
    "                increasing = True\n",
    "        \n",
    "        if was_increasing != increasing:\n",
    "            maxs.append(top)\n",
    "            maxs_index.append(x + i)\n",
    "        if was_decreasing != decreasing:\n",
    "            mins.append(low)\n",
    "            mins_index.append(x + i)\n",
    "        \n",
    "        prev = current\n",
    "        was_increasing = increasing\n",
    "        was_decreaseing = decreasing\n",
    "    \n",
    "    return maxs, maxs_index, mins, mins_index\n",
    "\n",
    "avg_maxs, avg_maxs_index, avg_mins, avg_mins_index = maxminavg()\n",
    "slope_maxs, slope_maxs_index, slope_mins, slope_mins_index = maxminslope()"
   ]
  },
  {
   "cell_type": "code",
   "execution_count": 4,
   "metadata": {},
   "outputs": [
    {
     "data": {
      "text/plain": [
       "<function matplotlib.pyplot.show(*args, **kw)>"
      ]
     },
     "execution_count": 4,
     "metadata": {},
     "output_type": "execute_result"
    },
    {
     "data": {
      "image/png": "[encoded data removed]",
      "text/plain": [
       "<Figure size 432x288 with 1 Axes>"
      ]
     },
     "metadata": {
      "needs_background": "light"
     },
     "output_type": "display_data"
    }
   ],
   "source": [
    "plt.plot(counter, close)\n",
    "plt.scatter(avg_maxs_index, avg_maxs, c='r')\n",
    "plt.scatter(avg_mins_index, avg_mins, c='r')\n",
    "#plt.scatter(slope_maxs_index, slope_maxs, c='r')\n",
    "#plt.scatter(slope_mins_index, slope_mins, c='r')\n",
    "plt.show"
   ]
  },
  {
   "cell_type": "code",
   "execution_count": 5,
   "metadata": {},
   "outputs": [
    {
     "name": "stdout",
     "output_type": "stream",
     "text": [
      "Strategy: 1.1985753745260441\n",
      "Hold: 0.9991441912983251\n"
     ]
    }
   ],
   "source": [
    "bought = False\n",
    "price = 0\n",
    "profit = 1\n",
    "i = 0\n",
    "j = 0\n",
    "\n",
    "avg_maxs_index.append(0)\n",
    "avg_mins_index.append(0)\n",
    "\n",
    "for x in range(len(close)):\n",
    "    if x == avg_mins_index[i]:\n",
    "        i = i + 1;\n",
    "        if bought == False:\n",
    "            price = close[x]\n",
    "            bought = True\n",
    "    if x == avg_maxs_index[j]:\n",
    "        j = j + 1;\n",
    "        if bought == True:\n",
    "            gain = close[x] / price\n",
    "            profit = profit * gain\n",
    "            bought = False\n",
    "    if x == (len(close) - 1):\n",
    "        if bought:\n",
    "            gain = close[x] / price\n",
    "            profit = profit * gain\n",
    "            bought = False\n",
    "\n",
    "print('Strategy: ' + str(profit))\n",
    "print('Hold: ' + str(close[len(close) - 1] / close[0]))"
   ]
  }
 ],
 "metadata": {
  "kernelspec": {
   "display_name": "Python 3",
   "language": "python",
   "name": "python3"
  },
  "language_info": {
   "codemirror_mode": {
    "name": "ipython",
    "version": 3
   },
   "file_extension": ".py",
   "mimetype": "text/x-python",
   "name": "python",
   "nbconvert_exporter": "python",
   "pygments_lexer": "ipython3",
   "version": "3.6.6"
  }
 },
 "nbformat": 4,
 "nbformat_minor": 2
}
